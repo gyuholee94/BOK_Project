{
  "nbformat": 4,
  "nbformat_minor": 0,
  "metadata": {
    "colab": {
      "name": "bond_pdf.ipynb",
      "provenance": [],
      "collapsed_sections": [],
      "authorship_tag": "ABX9TyNZUFjqF44e6E+aRdRaJkX1",
      "include_colab_link": true
    },
    "kernelspec": {
      "name": "python3",
      "display_name": "Python 3"
    }
  },
  "cells": [
    {
      "cell_type": "markdown",
      "metadata": {
        "id": "view-in-github",
        "colab_type": "text"
      },
      "source": [
        "<a href=\"https://colab.research.google.com/github/gyuholee94/BOK_Project/blob/mingyun%2Ftest/bond_pdf.ipynb\" target=\"_parent\"><img src=\"https://colab.research.google.com/assets/colab-badge.svg\" alt=\"Open In Colab\"/></a>"
      ]
    },
    {
      "cell_type": "code",
      "metadata": {
        "id": "HYSZwSZeNmr0",
        "colab_type": "code",
        "colab": {}
      },
      "source": [
        "import re\n",
        "import requests # 웹 상의 데이터를 가져올 때\n",
        "from bs4 import BeautifulSoup #가져온 데이터에서 필요한 정보를 파싱할 때\n",
        "from tqdm.notebook import tqdm\n"
      ],
      "execution_count": null,
      "outputs": []
    },
    {
      "cell_type": "code",
      "metadata": {
        "id": "kf7b2ATTO37L",
        "colab_type": "code",
        "colab": {
          "base_uri": "https://localhost:8080/",
          "height": 35
        },
        "outputId": "c5aa5ade-7949-46c9-961f-079ea8eb4f67"
      },
      "source": [
        "# for page in range(1, 11):\n",
        "# for page in range(1, 101, 10):\n",
        "# for page in range(10):\n",
        "no_page =126\n",
        "\n",
        "report_link = []\n",
        "report_yymm = []\n",
        "for page in range(no_page):\n",
        "  url = 'https://finance.naver.com/research/debenture_list.nhn'\n",
        "# 'where=news&query=깡'\n",
        "  query={\n",
        "    'page' : page+1\n",
        "  }\n",
        "  resp=requests.get(url,query)\n",
        "  soup= BeautifulSoup(resp.content, 'lxml')\n",
        "  a_tag=soup.select('tr td.file a')\n",
        "  b_tag=soup.select('tr td.date')\n",
        "  c_tag=[]\n",
        "  for idx, b in enumerate(b_tag):\n",
        "    if idx%2==0:\n",
        "      c_tag.append(b)\n",
        "\n",
        "  for a, c in zip(a_tag,c_tag):\n",
        "    report_link.append(a['href'])\n",
        "    report_yymm.append(c.text)\n",
        "\n",
        "len(report_link)\n"
      ],
      "execution_count": null,
      "outputs": [
        {
          "output_type": "execute_result",
          "data": {
            "text/plain": [
              "3759"
            ]
          },
          "metadata": {
            "tags": []
          },
          "execution_count": 52
        }
      ]
    },
    {
      "cell_type": "code",
      "metadata": {
        "id": "MSN00q3oZIM3",
        "colab_type": "code",
        "colab": {
          "base_uri": "https://localhost:8080/",
          "height": 143
        },
        "outputId": "fd9b9d49-e439-43a8-c721-9218c46622bf"
      },
      "source": [
        "!pip3 install pdfminer.six"
      ],
      "execution_count": null,
      "outputs": [
        {
          "output_type": "stream",
          "text": [
            "Requirement already satisfied: pdfminer.six in /usr/local/lib/python3.6/dist-packages (20200720)\n",
            "Requirement already satisfied: chardet; python_version > \"3.0\" in /usr/local/lib/python3.6/dist-packages (from pdfminer.six) (3.0.4)\n",
            "Requirement already satisfied: sortedcontainers in /usr/local/lib/python3.6/dist-packages (from pdfminer.six) (2.2.2)\n",
            "Requirement already satisfied: cryptography in /usr/local/lib/python3.6/dist-packages (from pdfminer.six) (3.0)\n",
            "Requirement already satisfied: six>=1.4.1 in /usr/local/lib/python3.6/dist-packages (from cryptography->pdfminer.six) (1.15.0)\n",
            "Requirement already satisfied: cffi!=1.11.3,>=1.8 in /usr/local/lib/python3.6/dist-packages (from cryptography->pdfminer.six) (1.14.0)\n",
            "Requirement already satisfied: pycparser in /usr/local/lib/python3.6/dist-packages (from cffi!=1.11.3,>=1.8->cryptography->pdfminer.six) (2.20)\n"
          ],
          "name": "stdout"
        }
      ]
    },
    {
      "cell_type": "code",
      "metadata": {
        "id": "c8wOyhKBeN2Q",
        "colab_type": "code",
        "colab": {}
      },
      "source": [
        "from pdfminer.pdfinterp import PDFResourceManager,PDFPageInterpreter\n",
        "from pdfminer.pdfpage import PDFPage\n",
        "from pdfminer.converter import TextConverter\n",
        "from pdfminer.layout import LAParams\n",
        "from io import StringIO\n",
        "from io import open"
      ],
      "execution_count": null,
      "outputs": []
    },
    {
      "cell_type": "code",
      "metadata": {
        "id": "MdfI7gewemqO",
        "colab_type": "code",
        "colab": {}
      },
      "source": [
        "def convert_pdf_to_txt():\n",
        "    rsrcmgr = PDFResourceManager()\n",
        "    retstr = StringIO()\n",
        "    codec = 'utf-8'\n",
        "    laparams = LAParams()\n",
        "    device = TextConverter(rsrcmgr, retstr, codec = codec, laparams=laparams)\n",
        "    fp = open('{}.pdf', 'rb') # 여기에 저장된 url에 대한 response.content를 넣어줘야 함\n",
        "    interpreter = PDFPageInterpreter(rsrcmgr, device)\n",
        "    password = \"\"\n",
        "    maxpages = 0\n",
        "    caching = True\n",
        "    pagenos = set()\n",
        "    for page in PDFPage.get_pages(fp, pagenos, maxpages=maxpages, password = password, caching = caching, check_extractable=True):\n",
        "        interpreter.process_page(page)\n",
        "    text = retstr.getvalue()\n",
        "    fp.close()\n",
        "    device.close()\n",
        "    retstr.close()\n",
        "    return text"
      ],
      "execution_count": null,
      "outputs": []
    },
    {
      "cell_type": "code",
      "metadata": {
        "id": "C7wGGKC_eSws",
        "colab_type": "code",
        "colab": {}
      },
      "source": [
        "import requests\n",
        "from bs4 import BeautifulSoup\n",
        "file_res = requests.get(\"https://ssl.pstatic.net/imgstock/upload/research/debenture/1595205128882.pdf\") # 여기에 url을 for문으로 돌릴거고\n",
        "with open('{}.pdf', 'wb') as f: # 여기에 pdf 이름을 정하면 {위에 있는 코드에서 {}.pdf에 넣어주면 돼}\n",
        "  f.write(file_res.content)"
      ],
      "execution_count": null,
      "outputs": []
    },
    {
      "cell_type": "code",
      "metadata": {
        "id": "NKii7dglRzuI",
        "colab_type": "code",
        "colab": {}
      },
      "source": [
        "full_pdf=[]\n",
        "for link, yymm in tqdm(zip(report_link, report_yymm)):\n",
        "  file_res = requests.get(link)\n",
        "  with open('{}.pdf', 'wb') as f:\n",
        "    f.write(file_res.content)\n",
        "  v=convert_pdf_to_txt()\n",
        "  t=re.findall('[가-힣]+',v)\n",
        "  g=''\n",
        "  for tt in tqdm(t):\n",
        "    g+=tt+' '\n",
        "  full_pdf.append([yymm,g])\n"
      ],
      "execution_count": null,
      "outputs": []
    },
    {
      "cell_type": "code",
      "metadata": {
        "id": "HxtFr6DHjRIU",
        "colab_type": "code",
        "colab": {}
      },
      "source": [
        "import pandas as pd"
      ],
      "execution_count": null,
      "outputs": []
    },
    {
      "cell_type": "code",
      "metadata": {
        "id": "3Mlt36C4SsYt",
        "colab_type": "code",
        "colab": {}
      },
      "source": [
        "F=pd.DataFrame(full_pdf, columns=['YYMMDD','TXT'])"
      ],
      "execution_count": null,
      "outputs": []
    },
    {
      "cell_type": "code",
      "metadata": {
        "id": "A4K1l4K4WpDu",
        "colab_type": "code",
        "colab": {}
      },
      "source": [
        ""
      ],
      "execution_count": null,
      "outputs": []
    }
  ]
}