{
  "nbformat": 4,
  "nbformat_minor": 0,
  "metadata": {
    "colab": {
      "name": "Untitled1.ipynb",
      "provenance": [],
      "authorship_tag": "ABX9TyMDvBr/MHKtOhXvihhW2ieV",
      "include_colab_link": true
    },
    "kernelspec": {
      "name": "python3",
      "display_name": "Python 3"
    }
  },
  "cells": [
    {
      "cell_type": "markdown",
      "metadata": {
        "id": "view-in-github",
        "colab_type": "text"
      },
      "source": [
        "<a href=\"https://colab.research.google.com/github/gyuholee94/BOK_Project/blob/master/%EC%BD%94%ED%85%8C%EC%97%B0%EC%8A%B58/4.ipynb\" target=\"_parent\"><img src=\"https://colab.research.google.com/assets/colab-badge.svg\" alt=\"Open In Colab\"/></a>"
      ]
    },
    {
      "cell_type": "markdown",
      "metadata": {
        "id": "0XX5HwwGKmI6",
        "colab_type": "text"
      },
      "source": [
        "문제 설명\n",
        "2016년 1월 1일은 금요일입니다. 2016년 a월 b일은 무슨 요일일까요? 두 수 a ,b를 입력받아 2016년 a월 b일이 무슨 요일인지 리턴하는 함수, solution을 완성하세요. 요일의 이름은 일요일부터 토요일까지 각각 SUN,MON,TUE,WED,THU,FRI,SAT\n",
        "\n",
        "입니다. 예를 들어 a=5, b=24라면 5월 24일은 화요일이므로 문자열 TUE를 반환하세요.\n",
        "\n",
        "제한 조건\n",
        "2016년은 윤년입니다.\n",
        "2016년 a월 b일은 실제로 있는 날입니다. (13월 26일이나 2월 45일같은 날짜는 주어지지 않습니다)"
      ]
    },
    {
      "cell_type": "code",
      "metadata": {
        "id": "ATzeueFOKyQC",
        "colab_type": "code",
        "colab": {}
      },
      "source": [
        "def solution(a, b):\n",
        "    if a > 12 or a < 1:\n",
        "        return False\n",
        "    elif b>32 or b<1:\n",
        "        return False\n",
        "    else:\n",
        "        date = [31, 29, 31, 30, 31, 30, 31, 31, 30, 31, 30, 31]\n",
        "        day = ['SUN', 'MON', 'TUE', 'WED', 'THU','FRI','SAT']\n",
        "        answer = day[sum(date[:a-1])%7+b%7-3]\n",
        "    \n",
        "    return answer"
      ],
      "execution_count": 1,
      "outputs": []
    },
    {
      "cell_type": "code",
      "metadata": {
        "id": "eGSWrX56Ky2k",
        "colab_type": "code",
        "colab": {
          "base_uri": "https://localhost:8080/",
          "height": 35
        },
        "outputId": "901ec92c-c75b-4a66-d117-0ec0a63c3925"
      },
      "source": [
        "solution(12, 3)"
      ],
      "execution_count": 2,
      "outputs": [
        {
          "output_type": "execute_result",
          "data": {
            "application/vnd.google.colaboratory.intrinsic+json": {
              "type": "string"
            },
            "text/plain": [
              "'SAT'"
            ]
          },
          "metadata": {
            "tags": []
          },
          "execution_count": 2
        }
      ]
    },
    {
      "cell_type": "code",
      "metadata": {
        "id": "8D300C32K0LE",
        "colab_type": "code",
        "colab": {}
      },
      "source": [
        ""
      ],
      "execution_count": null,
      "outputs": []
    }
  ]
}